{
 "cells": [
  {
   "cell_type": "code",
   "execution_count": 1,
   "id": "3a02f700",
   "metadata": {},
   "outputs": [],
   "source": [
    "path = \"/Users/saurabhramteke/Code/brand-monitoring/testing_crew/src/testing_crew/test.txt\""
   ]
  },
  {
   "cell_type": "code",
   "execution_count": null,
   "id": "c2803694",
   "metadata": {},
   "outputs": [],
   "source": []
  },
  {
   "cell_type": "code",
   "execution_count": null,
   "id": "e8fa9fdf",
   "metadata": {},
   "outputs": [
    {
     "name": "stdout",
     "output_type": "stream",
     "text": [
      "1. OpenAI\n",
      "   Link: https://openai.com/\n",
      "   Snippet: We believe our research will eventually lead to artificial general intelligence, a system that can solve human-level problems. Building safe and beneficial ...\n",
      "\n",
      "2. OpenAI - LinkedIn\n",
      "   Link: https://www.linkedin.com/company/openai\n",
      "   Snippet: OpenAI is an AI research and deployment company dedicated to ensuring that general-purpose artificial intelligence benefits all of humanity.\n",
      "\n",
      "Related Searches: ['Anthropic', 'Chatgpt', 'ChatGPT OpenAI']\n",
      "API Credits Used: 1\n"
     ]
    }
   ],
   "source": [
    "import ast\n",
    "\n",
    "with open(path, 'r') as f:\n",
    "    data = ast.literal_eval(f.read())\n",
    "\n",
    "query = data['searchParameters']['q']\n",
    "location = data['searchParameters']['location']\n",
    "top_results = data['organic']\n",
    "related_searches = [item['query'] for item in data['relatedSearches']]\n",
    "credits_used = data['credits']\n",
    "\n",
    "# Example usage\n",
    "for i, result in enumerate(top_results, 1):\n",
    "    print(f\"{i}. {result['title']}\")\n",
    "    print(f\"   Link: {result['link']}\")\n",
    "    print(f\"   Snippet: {result['snippet']}\\n\")\n",
    "\n",
    "print(\"Related Searches:\", related_searches)\n",
    "print(\"API Credits Used:\", credits_used)\n"
   ]
  },
  {
   "cell_type": "code",
   "execution_count": 13,
   "id": "b4605764",
   "metadata": {},
   "outputs": [
    {
     "data": {
      "text/plain": [
       "'OpenAI'"
      ]
     },
     "execution_count": 13,
     "metadata": {},
     "output_type": "execute_result"
    }
   ],
   "source": [
    "query"
   ]
  },
  {
   "cell_type": "code",
   "execution_count": null,
   "id": "aeb06d36",
   "metadata": {},
   "outputs": [],
   "source": []
  }
 ],
 "metadata": {
  "kernelspec": {
   "display_name": "vid_gen",
   "language": "python",
   "name": "python3"
  },
  "language_info": {
   "codemirror_mode": {
    "name": "ipython",
    "version": 3
   },
   "file_extension": ".py",
   "mimetype": "text/x-python",
   "name": "python",
   "nbconvert_exporter": "python",
   "pygments_lexer": "ipython3",
   "version": "3.11.11"
  }
 },
 "nbformat": 4,
 "nbformat_minor": 5
}
